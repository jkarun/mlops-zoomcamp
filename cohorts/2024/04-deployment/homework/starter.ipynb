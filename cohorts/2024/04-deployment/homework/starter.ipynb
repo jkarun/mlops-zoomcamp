{
 "cells": [
  {
   "cell_type": "code",
   "execution_count": 1,
   "id": "2c51efaa",
   "metadata": {},
   "outputs": [
    {
     "name": "stderr",
     "output_type": "stream",
     "text": [
      "'grep' is not recognized as an internal or external command,\n",
      "operable program or batch file.\n"
     ]
    }
   ],
   "source": [
    "!pip freeze | grep scikit-learn"
   ]
  },
  {
   "cell_type": "code",
   "execution_count": 2,
   "id": "4acf73a0-51b5-4663-9bb8-8eb947863e17",
   "metadata": {},
   "outputs": [
    {
     "name": "stdout",
     "output_type": "stream",
     "text": [
      "Python 3.11.9\n"
     ]
    }
   ],
   "source": [
    "!python -V"
   ]
  },
  {
   "cell_type": "code",
   "execution_count": 3,
   "id": "0ef880a0",
   "metadata": {},
   "outputs": [],
   "source": [
    "import pickle\n",
    "import pandas as pd"
   ]
  },
  {
   "cell_type": "code",
   "execution_count": 4,
   "id": "7836ccfd",
   "metadata": {},
   "outputs": [],
   "source": [
    "with open('model.bin', 'rb') as f_in:\n",
    "    dv, model = pickle.load(f_in)"
   ]
  },
  {
   "cell_type": "code",
   "execution_count": 5,
   "id": "41c08294",
   "metadata": {},
   "outputs": [],
   "source": [
    "categorical = ['PULocationID', 'DOLocationID']\n",
    "\n",
    "def read_data(filename):\n",
    "    df = pd.read_parquet(filename)\n",
    "    \n",
    "    df['duration'] = df.tpep_dropoff_datetime - df.tpep_pickup_datetime\n",
    "    df['duration'] = df.duration.dt.total_seconds() / 60\n",
    "\n",
    "    df = df[(df.duration >= 1) & (df.duration <= 60)].copy()\n",
    "\n",
    "    df[categorical] = df[categorical].fillna(-1).astype('int').astype('str')\n",
    "    \n",
    "    return df"
   ]
  },
  {
   "cell_type": "code",
   "execution_count": 18,
   "id": "4854399a",
   "metadata": {},
   "outputs": [],
   "source": [
    "year = 2023\n",
    "month = 3\n",
    "\n",
    "input_file = f'https://d37ci6vzurychx.cloudfront.net/trip-data/yellow_tripdata_{year:04d}-{month:02d}.parquet'\n",
    "df = read_data(input_file)"
   ]
  },
  {
   "cell_type": "code",
   "execution_count": 19,
   "id": "669fda0a",
   "metadata": {},
   "outputs": [],
   "source": [
    "dicts = df[categorical].to_dict(orient='records')\n",
    "X_val = dv.transform(dicts)\n",
    "y_pred = model.predict(X_val)"
   ]
  },
  {
   "cell_type": "code",
   "execution_count": 20,
   "id": "bf532ae7-1897-428c-ba0c-875ccaf7d76c",
   "metadata": {},
   "outputs": [
    {
     "data": {
      "text/plain": [
       "6.247488852238703"
      ]
     },
     "execution_count": 20,
     "metadata": {},
     "output_type": "execute_result"
    }
   ],
   "source": [
    "y_pred.std()"
   ]
  },
  {
   "cell_type": "code",
   "execution_count": 21,
   "id": "5418ab8c",
   "metadata": {},
   "outputs": [],
   "source": [
    "df['ride_id'] = f'{year:04d}/{month:02d}_' + df.index.astype('str')\n"
   ]
  },
  {
   "cell_type": "code",
   "execution_count": 22,
   "id": "f9c133f8",
   "metadata": {},
   "outputs": [],
   "source": [
    "output_file = f'output/yellow_tripdata_{year:04d}-{month:02d}.parquet'\n"
   ]
  },
  {
   "cell_type": "code",
   "execution_count": 23,
   "id": "e3128537",
   "metadata": {},
   "outputs": [],
   "source": [
    "!mkdir output"
   ]
  },
  {
   "cell_type": "code",
   "execution_count": 24,
   "id": "95f90b7a",
   "metadata": {},
   "outputs": [],
   "source": [
    "df_result = pd.DataFrame()\n",
    "df_result['ride_id'] = df['ride_id']\n",
    "df_result['predicted_duration'] = y_pred"
   ]
  },
  {
   "cell_type": "code",
   "execution_count": 25,
   "id": "364cdaf6",
   "metadata": {},
   "outputs": [],
   "source": [
    "df_result.to_parquet(\n",
    "    output_file,\n",
    "    engine='pyarrow',\n",
    "    compression=None,\n",
    "    index=False\n",
    ")"
   ]
  },
  {
   "cell_type": "code",
   "execution_count": 29,
   "id": "b61216bd",
   "metadata": {},
   "outputs": [
    {
     "name": "stdout",
     "output_type": "stream",
     "text": [
      " Volume in drive C is Windows \n",
      " Volume Serial Number is 30A0-01DB\n",
      "\n",
      " Directory of c:\\Users\\arun_prasath\\workspace\\courses\\mlops-zoomcamp\\cohorts\\2024\\04-deployment\\homework\\output\n",
      "\n",
      "15-07-2024  11:23    <DIR>          .\n",
      "15-07-2024  11:22    <DIR>          ..\n",
      "15-07-2024  11:23        68,641,880 yellow_tripdata_2023-03.parquet\n",
      "               1 File(s)     68,641,880 bytes\n",
      "               2 Dir(s)  389,994,663,936 bytes free\n"
     ]
    }
   ],
   "source": [
    "!dir .\\output"
   ]
  },
  {
   "cell_type": "code",
   "execution_count": 30,
   "id": "1c5611e1",
   "metadata": {},
   "outputs": [
    {
     "name": "stderr",
     "output_type": "stream",
     "text": [
      "[NbConvertApp] Converting notebook starter.ipynb to script\n",
      "[NbConvertApp] Writing 1623 bytes to starter.py\n"
     ]
    }
   ],
   "source": [
    "!jupyter nbconvert --to script starter.ipynb"
   ]
  },
  {
   "cell_type": "code",
   "execution_count": 31,
   "id": "83759a6f",
   "metadata": {},
   "outputs": [
    {
     "name": "stdout",
     "output_type": "stream",
     "text": [
      "Collecting pipenv\n",
      "  Downloading pipenv-2024.0.1-py3-none-any.whl.metadata (19 kB)\n",
      "Requirement already satisfied: certifi in c:\\users\\arun_prasath\\appdata\\local\\anaconda3\\envs\\mlops\\lib\\site-packages (from pipenv) (2024.6.2)\n",
      "Requirement already satisfied: setuptools>=67 in c:\\users\\arun_prasath\\appdata\\local\\anaconda3\\envs\\mlops\\lib\\site-packages (from pipenv) (69.5.1)\n",
      "Collecting virtualenv>=20.24.2 (from pipenv)\n",
      "  Downloading virtualenv-20.26.3-py3-none-any.whl.metadata (4.5 kB)\n",
      "Collecting distlib<1,>=0.3.7 (from virtualenv>=20.24.2->pipenv)\n",
      "  Downloading distlib-0.3.8-py2.py3-none-any.whl.metadata (5.1 kB)\n",
      "Collecting filelock<4,>=3.12.2 (from virtualenv>=20.24.2->pipenv)\n",
      "  Downloading filelock-3.15.4-py3-none-any.whl.metadata (2.9 kB)\n",
      "Requirement already satisfied: platformdirs<5,>=3.9.1 in c:\\users\\arun_prasath\\appdata\\local\\anaconda3\\envs\\mlops\\lib\\site-packages (from virtualenv>=20.24.2->pipenv) (4.2.2)\n",
      "Downloading pipenv-2024.0.1-py3-none-any.whl (3.2 MB)\n",
      "   ---------------------------------------- 0.0/3.2 MB ? eta -:--:--\n",
      "   ---------------------------------------- 0.0/3.2 MB ? eta -:--:--\n",
      "    --------------------------------------- 0.1/3.2 MB 825.8 kB/s eta 0:00:04\n",
      "   -- ------------------------------------- 0.2/3.2 MB 1.5 MB/s eta 0:00:03\n",
      "   --- ------------------------------------ 0.3/3.2 MB 1.8 MB/s eta 0:00:02\n",
      "   ------ --------------------------------- 0.5/3.2 MB 2.6 MB/s eta 0:00:02\n",
      "   -------- ------------------------------- 0.7/3.2 MB 2.7 MB/s eta 0:00:01\n",
      "   ------------ --------------------------- 1.0/3.2 MB 3.2 MB/s eta 0:00:01\n",
      "   -------------- ------------------------- 1.1/3.2 MB 3.4 MB/s eta 0:00:01\n",
      "   ------------------ --------------------- 1.5/3.2 MB 3.5 MB/s eta 0:00:01\n",
      "   --------------------- ------------------ 1.7/3.2 MB 3.8 MB/s eta 0:00:01\n",
      "   ---------------------- ----------------- 1.8/3.2 MB 3.5 MB/s eta 0:00:01\n",
      "   ------------------------ --------------- 1.9/3.2 MB 3.4 MB/s eta 0:00:01\n",
      "   ------------------------- -------------- 2.1/3.2 MB 3.5 MB/s eta 0:00:01\n",
      "   --------------------------- ------------ 2.2/3.2 MB 3.4 MB/s eta 0:00:01\n",
      "   --------------------------- ------------ 2.2/3.2 MB 3.4 MB/s eta 0:00:01\n",
      "   ---------------------------- ----------- 2.3/3.2 MB 3.2 MB/s eta 0:00:01\n",
      "   ---------------------------- ----------- 2.3/3.2 MB 3.2 MB/s eta 0:00:01\n",
      "   ---------------------------- ----------- 2.3/3.2 MB 3.2 MB/s eta 0:00:01\n",
      "   ---------------------------- ----------- 2.3/3.2 MB 3.2 MB/s eta 0:00:01\n",
      "   ---------------------------- ----------- 2.3/3.2 MB 3.2 MB/s eta 0:00:01\n",
      "   ----------------------------- ---------- 2.3/3.2 MB 2.5 MB/s eta 0:00:01\n",
      "   ---------------------------------- ----- 2.8/3.2 MB 2.8 MB/s eta 0:00:01\n",
      "   ---------------------------------- ----- 2.8/3.2 MB 2.8 MB/s eta 0:00:01\n",
      "   ---------------------------------- ----- 2.8/3.2 MB 2.8 MB/s eta 0:00:01\n",
      "   ------------------------------------ --- 2.9/3.2 MB 2.6 MB/s eta 0:00:01\n",
      "   ---------------------------------------  3.2/3.2 MB 2.7 MB/s eta 0:00:01\n",
      "   ---------------------------------------  3.2/3.2 MB 2.7 MB/s eta 0:00:01\n",
      "   ---------------------------------------  3.2/3.2 MB 2.7 MB/s eta 0:00:01\n",
      "   ---------------------------------------- 3.2/3.2 MB 2.5 MB/s eta 0:00:00\n",
      "Downloading virtualenv-20.26.3-py3-none-any.whl (5.7 MB)\n",
      "   ---------------------------------------- 0.0/5.7 MB ? eta -:--:--\n",
      "    --------------------------------------- 0.1/5.7 MB ? eta -:--:--\n",
      "   -- ------------------------------------- 0.3/5.7 MB 5.0 MB/s eta 0:00:02\n",
      "   --- ------------------------------------ 0.4/5.7 MB 3.4 MB/s eta 0:00:02\n",
      "   ---- ----------------------------------- 0.6/5.7 MB 3.3 MB/s eta 0:00:02\n",
      "   ----- ---------------------------------- 0.7/5.7 MB 3.4 MB/s eta 0:00:02\n",
      "   ----- ---------------------------------- 0.8/5.7 MB 3.5 MB/s eta 0:00:02\n",
      "   ------ --------------------------------- 0.9/5.7 MB 3.1 MB/s eta 0:00:02\n",
      "   ------ --------------------------------- 0.9/5.7 MB 3.1 MB/s eta 0:00:02\n",
      "   ------ --------------------------------- 0.9/5.7 MB 3.1 MB/s eta 0:00:02\n",
      "   ------- -------------------------------- 1.1/5.7 MB 2.6 MB/s eta 0:00:02\n",
      "   -------- ------------------------------- 1.2/5.7 MB 2.5 MB/s eta 0:00:02\n",
      "   -------- ------------------------------- 1.2/5.7 MB 2.5 MB/s eta 0:00:02\n",
      "   --------- ------------------------------ 1.3/5.7 MB 2.4 MB/s eta 0:00:02\n",
      "   --------- ------------------------------ 1.4/5.7 MB 2.2 MB/s eta 0:00:02\n",
      "   ---------- ----------------------------- 1.5/5.7 MB 2.1 MB/s eta 0:00:03\n",
      "   ---------- ----------------------------- 1.5/5.7 MB 2.1 MB/s eta 0:00:02\n",
      "   ----------- ---------------------------- 1.6/5.7 MB 2.1 MB/s eta 0:00:02\n",
      "   ------------ --------------------------- 1.8/5.7 MB 2.1 MB/s eta 0:00:02\n",
      "   ------------- -------------------------- 1.9/5.7 MB 2.1 MB/s eta 0:00:02\n",
      "   ------------- -------------------------- 2.0/5.7 MB 2.1 MB/s eta 0:00:02\n",
      "   -------------- ------------------------- 2.1/5.7 MB 2.2 MB/s eta 0:00:02\n",
      "   --------------- ------------------------ 2.2/5.7 MB 2.2 MB/s eta 0:00:02\n",
      "   ---------------- ----------------------- 2.3/5.7 MB 2.3 MB/s eta 0:00:02\n",
      "   ----------------- ---------------------- 2.4/5.7 MB 2.3 MB/s eta 0:00:02\n",
      "   ------------------ --------------------- 2.6/5.7 MB 2.3 MB/s eta 0:00:02\n",
      "   ------------------ --------------------- 2.7/5.7 MB 2.3 MB/s eta 0:00:02\n",
      "   ------------------- -------------------- 2.8/5.7 MB 2.3 MB/s eta 0:00:02\n",
      "   -------------------- ------------------- 2.9/5.7 MB 2.3 MB/s eta 0:00:02\n",
      "   --------------------- ------------------ 3.0/5.7 MB 2.3 MB/s eta 0:00:02\n",
      "   --------------------- ------------------ 3.1/5.7 MB 2.3 MB/s eta 0:00:02\n",
      "   ---------------------- ----------------- 3.1/5.7 MB 2.3 MB/s eta 0:00:02\n",
      "   ---------------------- ----------------- 3.3/5.7 MB 2.2 MB/s eta 0:00:02\n",
      "   ------------------------ --------------- 3.4/5.7 MB 2.3 MB/s eta 0:00:02\n",
      "   ------------------------ --------------- 3.5/5.7 MB 2.3 MB/s eta 0:00:01\n",
      "   ------------------------- -------------- 3.6/5.7 MB 2.2 MB/s eta 0:00:01\n",
      "   -------------------------- ------------- 3.7/5.7 MB 2.3 MB/s eta 0:00:01\n",
      "   -------------------------- ------------- 3.8/5.7 MB 2.2 MB/s eta 0:00:01\n",
      "   --------------------------- ------------ 3.9/5.7 MB 2.2 MB/s eta 0:00:01\n",
      "   ---------------------------- ----------- 4.0/5.7 MB 2.3 MB/s eta 0:00:01\n",
      "   ----------------------------- ---------- 4.2/5.7 MB 2.3 MB/s eta 0:00:01\n",
      "   ------------------------------ --------- 4.3/5.7 MB 2.3 MB/s eta 0:00:01\n",
      "   ------------------------------- -------- 4.4/5.7 MB 2.3 MB/s eta 0:00:01\n",
      "   -------------------------------- ------- 4.6/5.7 MB 2.3 MB/s eta 0:00:01\n",
      "   -------------------------------- ------- 4.7/5.7 MB 2.3 MB/s eta 0:00:01\n",
      "   --------------------------------- ------ 4.8/5.7 MB 2.3 MB/s eta 0:00:01\n",
      "   ---------------------------------- ----- 4.9/5.7 MB 2.4 MB/s eta 0:00:01\n",
      "   ----------------------------------- ---- 5.1/5.7 MB 2.4 MB/s eta 0:00:01\n",
      "   ------------------------------------ --- 5.3/5.7 MB 2.4 MB/s eta 0:00:01\n",
      "   ------------------------------------- -- 5.4/5.7 MB 2.4 MB/s eta 0:00:01\n",
      "   -------------------------------------- - 5.5/5.7 MB 2.4 MB/s eta 0:00:01\n",
      "   ---------------------------------------  5.7/5.7 MB 2.4 MB/s eta 0:00:01\n",
      "   ---------------------------------------  5.7/5.7 MB 2.4 MB/s eta 0:00:01\n",
      "   ---------------------------------------  5.7/5.7 MB 2.4 MB/s eta 0:00:01\n",
      "   ---------------------------------------  5.7/5.7 MB 2.4 MB/s eta 0:00:01\n",
      "   ---------------------------------------- 5.7/5.7 MB 2.3 MB/s eta 0:00:00\n",
      "Downloading distlib-0.3.8-py2.py3-none-any.whl (468 kB)\n",
      "   ---------------------------------------- 0.0/468.9 kB ? eta -:--:--\n",
      "   ------------- -------------------------- 163.8/468.9 kB 5.0 MB/s eta 0:00:01\n",
      "   --------------------------- ------------ 317.4/468.9 kB 3.3 MB/s eta 0:00:01\n",
      "   ---------------------------------------  460.8/468.9 kB 3.2 MB/s eta 0:00:01\n",
      "   ---------------------------------------- 468.9/468.9 kB 2.9 MB/s eta 0:00:00\n",
      "Downloading filelock-3.15.4-py3-none-any.whl (16 kB)\n",
      "Installing collected packages: distlib, filelock, virtualenv, pipenv\n",
      "Successfully installed distlib-0.3.8 filelock-3.15.4 pipenv-2024.0.1 virtualenv-20.26.3\n"
     ]
    }
   ],
   "source": [
    "!pip install pipenv"
   ]
  },
  {
   "cell_type": "code",
   "execution_count": null,
   "id": "b47fb974",
   "metadata": {},
   "outputs": [],
   "source": []
  }
 ],
 "metadata": {
  "kernelspec": {
   "display_name": "Python 3 (ipykernel)",
   "language": "python",
   "name": "python3"
  },
  "language_info": {
   "codemirror_mode": {
    "name": "ipython",
    "version": 3
   },
   "file_extension": ".py",
   "mimetype": "text/x-python",
   "name": "python",
   "nbconvert_exporter": "python",
   "pygments_lexer": "ipython3",
   "version": "3.11.9"
  }
 },
 "nbformat": 4,
 "nbformat_minor": 5
}
